{
    "cells": [
        {
            "cell_type": "markdown",
            "source": [
                "# Importing Libraries"
            ],
            "metadata": {}
        },
        {
            "cell_type": "code",
            "execution_count": 115,
            "source": [
                "import numpy as np\r\n",
                "import pandas as pd\r\n",
                "import seaborn as sns\r\n",
                "import matplotlib.pyplot as plt"
            ],
            "outputs": [],
            "metadata": {}
        },
        {
            "cell_type": "markdown",
            "source": [
                "# Importing the dataset (.csv file)"
            ],
            "metadata": {}
        },
        {
            "cell_type": "code",
            "execution_count": 116,
            "source": [
                "data_frame = pd.read_csv('../Dataset/car data.csv') "
            ],
            "outputs": [],
            "metadata": {}
        },
        {
            "cell_type": "markdown",
            "source": [
                "# Features of the Dataset"
            ],
            "metadata": {}
        },
        {
            "cell_type": "code",
            "execution_count": 117,
            "source": [
                "data_frame.head(10)"
            ],
            "outputs": [
                {
                    "output_type": "execute_result",
                    "data": {
                        "text/plain": [
                            "        Car_Name  Year  Selling_Price  Present_Price  Kms_Driven Fuel_Type  \\\n",
                            "0           ritz  2014           3.35           5.59       27000    Petrol   \n",
                            "1            sx4  2013           4.75           9.54       43000    Diesel   \n",
                            "2           ciaz  2017           7.25           9.85        6900    Petrol   \n",
                            "3        wagon r  2011           2.85           4.15        5200    Petrol   \n",
                            "4          swift  2014           4.60           6.87       42450    Diesel   \n",
                            "5  vitara brezza  2018           9.25           9.83        2071    Diesel   \n",
                            "6           ciaz  2015           6.75           8.12       18796    Petrol   \n",
                            "7        s cross  2015           6.50           8.61       33429    Diesel   \n",
                            "8           ciaz  2016           8.75           8.89       20273    Diesel   \n",
                            "9           ciaz  2015           7.45           8.92       42367    Diesel   \n",
                            "\n",
                            "  Seller_Type Transmission  Owner  \n",
                            "0      Dealer       Manual      0  \n",
                            "1      Dealer       Manual      0  \n",
                            "2      Dealer       Manual      0  \n",
                            "3      Dealer       Manual      0  \n",
                            "4      Dealer       Manual      0  \n",
                            "5      Dealer       Manual      0  \n",
                            "6      Dealer       Manual      0  \n",
                            "7      Dealer       Manual      0  \n",
                            "8      Dealer       Manual      0  \n",
                            "9      Dealer       Manual      0  "
                        ],
                        "text/html": [
                            "<div>\n",
                            "<style scoped>\n",
                            "    .dataframe tbody tr th:only-of-type {\n",
                            "        vertical-align: middle;\n",
                            "    }\n",
                            "\n",
                            "    .dataframe tbody tr th {\n",
                            "        vertical-align: top;\n",
                            "    }\n",
                            "\n",
                            "    .dataframe thead th {\n",
                            "        text-align: right;\n",
                            "    }\n",
                            "</style>\n",
                            "<table border=\"1\" class=\"dataframe\">\n",
                            "  <thead>\n",
                            "    <tr style=\"text-align: right;\">\n",
                            "      <th></th>\n",
                            "      <th>Car_Name</th>\n",
                            "      <th>Year</th>\n",
                            "      <th>Selling_Price</th>\n",
                            "      <th>Present_Price</th>\n",
                            "      <th>Kms_Driven</th>\n",
                            "      <th>Fuel_Type</th>\n",
                            "      <th>Seller_Type</th>\n",
                            "      <th>Transmission</th>\n",
                            "      <th>Owner</th>\n",
                            "    </tr>\n",
                            "  </thead>\n",
                            "  <tbody>\n",
                            "    <tr>\n",
                            "      <th>0</th>\n",
                            "      <td>ritz</td>\n",
                            "      <td>2014</td>\n",
                            "      <td>3.35</td>\n",
                            "      <td>5.59</td>\n",
                            "      <td>27000</td>\n",
                            "      <td>Petrol</td>\n",
                            "      <td>Dealer</td>\n",
                            "      <td>Manual</td>\n",
                            "      <td>0</td>\n",
                            "    </tr>\n",
                            "    <tr>\n",
                            "      <th>1</th>\n",
                            "      <td>sx4</td>\n",
                            "      <td>2013</td>\n",
                            "      <td>4.75</td>\n",
                            "      <td>9.54</td>\n",
                            "      <td>43000</td>\n",
                            "      <td>Diesel</td>\n",
                            "      <td>Dealer</td>\n",
                            "      <td>Manual</td>\n",
                            "      <td>0</td>\n",
                            "    </tr>\n",
                            "    <tr>\n",
                            "      <th>2</th>\n",
                            "      <td>ciaz</td>\n",
                            "      <td>2017</td>\n",
                            "      <td>7.25</td>\n",
                            "      <td>9.85</td>\n",
                            "      <td>6900</td>\n",
                            "      <td>Petrol</td>\n",
                            "      <td>Dealer</td>\n",
                            "      <td>Manual</td>\n",
                            "      <td>0</td>\n",
                            "    </tr>\n",
                            "    <tr>\n",
                            "      <th>3</th>\n",
                            "      <td>wagon r</td>\n",
                            "      <td>2011</td>\n",
                            "      <td>2.85</td>\n",
                            "      <td>4.15</td>\n",
                            "      <td>5200</td>\n",
                            "      <td>Petrol</td>\n",
                            "      <td>Dealer</td>\n",
                            "      <td>Manual</td>\n",
                            "      <td>0</td>\n",
                            "    </tr>\n",
                            "    <tr>\n",
                            "      <th>4</th>\n",
                            "      <td>swift</td>\n",
                            "      <td>2014</td>\n",
                            "      <td>4.60</td>\n",
                            "      <td>6.87</td>\n",
                            "      <td>42450</td>\n",
                            "      <td>Diesel</td>\n",
                            "      <td>Dealer</td>\n",
                            "      <td>Manual</td>\n",
                            "      <td>0</td>\n",
                            "    </tr>\n",
                            "    <tr>\n",
                            "      <th>5</th>\n",
                            "      <td>vitara brezza</td>\n",
                            "      <td>2018</td>\n",
                            "      <td>9.25</td>\n",
                            "      <td>9.83</td>\n",
                            "      <td>2071</td>\n",
                            "      <td>Diesel</td>\n",
                            "      <td>Dealer</td>\n",
                            "      <td>Manual</td>\n",
                            "      <td>0</td>\n",
                            "    </tr>\n",
                            "    <tr>\n",
                            "      <th>6</th>\n",
                            "      <td>ciaz</td>\n",
                            "      <td>2015</td>\n",
                            "      <td>6.75</td>\n",
                            "      <td>8.12</td>\n",
                            "      <td>18796</td>\n",
                            "      <td>Petrol</td>\n",
                            "      <td>Dealer</td>\n",
                            "      <td>Manual</td>\n",
                            "      <td>0</td>\n",
                            "    </tr>\n",
                            "    <tr>\n",
                            "      <th>7</th>\n",
                            "      <td>s cross</td>\n",
                            "      <td>2015</td>\n",
                            "      <td>6.50</td>\n",
                            "      <td>8.61</td>\n",
                            "      <td>33429</td>\n",
                            "      <td>Diesel</td>\n",
                            "      <td>Dealer</td>\n",
                            "      <td>Manual</td>\n",
                            "      <td>0</td>\n",
                            "    </tr>\n",
                            "    <tr>\n",
                            "      <th>8</th>\n",
                            "      <td>ciaz</td>\n",
                            "      <td>2016</td>\n",
                            "      <td>8.75</td>\n",
                            "      <td>8.89</td>\n",
                            "      <td>20273</td>\n",
                            "      <td>Diesel</td>\n",
                            "      <td>Dealer</td>\n",
                            "      <td>Manual</td>\n",
                            "      <td>0</td>\n",
                            "    </tr>\n",
                            "    <tr>\n",
                            "      <th>9</th>\n",
                            "      <td>ciaz</td>\n",
                            "      <td>2015</td>\n",
                            "      <td>7.45</td>\n",
                            "      <td>8.92</td>\n",
                            "      <td>42367</td>\n",
                            "      <td>Diesel</td>\n",
                            "      <td>Dealer</td>\n",
                            "      <td>Manual</td>\n",
                            "      <td>0</td>\n",
                            "    </tr>\n",
                            "  </tbody>\n",
                            "</table>\n",
                            "</div>"
                        ]
                    },
                    "metadata": {},
                    "execution_count": 117
                }
            ],
            "metadata": {}
        },
        {
            "cell_type": "code",
            "execution_count": 118,
            "source": [
                "data_frame.info()"
            ],
            "outputs": [
                {
                    "output_type": "stream",
                    "name": "stdout",
                    "text": [
                        "<class 'pandas.core.frame.DataFrame'>\n",
                        "RangeIndex: 301 entries, 0 to 300\n",
                        "Data columns (total 9 columns):\n",
                        " #   Column         Non-Null Count  Dtype  \n",
                        "---  ------         --------------  -----  \n",
                        " 0   Car_Name       301 non-null    object \n",
                        " 1   Year           301 non-null    int64  \n",
                        " 2   Selling_Price  301 non-null    float64\n",
                        " 3   Present_Price  301 non-null    float64\n",
                        " 4   Kms_Driven     301 non-null    int64  \n",
                        " 5   Fuel_Type      301 non-null    object \n",
                        " 6   Seller_Type    301 non-null    object \n",
                        " 7   Transmission   301 non-null    object \n",
                        " 8   Owner          301 non-null    int64  \n",
                        "dtypes: float64(2), int64(3), object(4)\n",
                        "memory usage: 21.3+ KB\n"
                    ]
                }
            ],
            "metadata": {}
        },
        {
            "cell_type": "code",
            "execution_count": 119,
            "source": [
                "data_frame.shape"
            ],
            "outputs": [
                {
                    "output_type": "execute_result",
                    "data": {
                        "text/plain": [
                            "(301, 9)"
                        ]
                    },
                    "metadata": {},
                    "execution_count": 119
                }
            ],
            "metadata": {}
        },
        {
            "cell_type": "code",
            "execution_count": 120,
            "source": [
                "data_frame.drop('Owner', inplace=True, axis=1)"
            ],
            "outputs": [],
            "metadata": {}
        },
        {
            "cell_type": "code",
            "execution_count": 121,
            "source": [
                "data_frame.head()"
            ],
            "outputs": [
                {
                    "output_type": "execute_result",
                    "data": {
                        "text/plain": [
                            "  Car_Name  Year  Selling_Price  Present_Price  Kms_Driven Fuel_Type  \\\n",
                            "0     ritz  2014           3.35           5.59       27000    Petrol   \n",
                            "1      sx4  2013           4.75           9.54       43000    Diesel   \n",
                            "2     ciaz  2017           7.25           9.85        6900    Petrol   \n",
                            "3  wagon r  2011           2.85           4.15        5200    Petrol   \n",
                            "4    swift  2014           4.60           6.87       42450    Diesel   \n",
                            "\n",
                            "  Seller_Type Transmission  \n",
                            "0      Dealer       Manual  \n",
                            "1      Dealer       Manual  \n",
                            "2      Dealer       Manual  \n",
                            "3      Dealer       Manual  \n",
                            "4      Dealer       Manual  "
                        ],
                        "text/html": [
                            "<div>\n",
                            "<style scoped>\n",
                            "    .dataframe tbody tr th:only-of-type {\n",
                            "        vertical-align: middle;\n",
                            "    }\n",
                            "\n",
                            "    .dataframe tbody tr th {\n",
                            "        vertical-align: top;\n",
                            "    }\n",
                            "\n",
                            "    .dataframe thead th {\n",
                            "        text-align: right;\n",
                            "    }\n",
                            "</style>\n",
                            "<table border=\"1\" class=\"dataframe\">\n",
                            "  <thead>\n",
                            "    <tr style=\"text-align: right;\">\n",
                            "      <th></th>\n",
                            "      <th>Car_Name</th>\n",
                            "      <th>Year</th>\n",
                            "      <th>Selling_Price</th>\n",
                            "      <th>Present_Price</th>\n",
                            "      <th>Kms_Driven</th>\n",
                            "      <th>Fuel_Type</th>\n",
                            "      <th>Seller_Type</th>\n",
                            "      <th>Transmission</th>\n",
                            "    </tr>\n",
                            "  </thead>\n",
                            "  <tbody>\n",
                            "    <tr>\n",
                            "      <th>0</th>\n",
                            "      <td>ritz</td>\n",
                            "      <td>2014</td>\n",
                            "      <td>3.35</td>\n",
                            "      <td>5.59</td>\n",
                            "      <td>27000</td>\n",
                            "      <td>Petrol</td>\n",
                            "      <td>Dealer</td>\n",
                            "      <td>Manual</td>\n",
                            "    </tr>\n",
                            "    <tr>\n",
                            "      <th>1</th>\n",
                            "      <td>sx4</td>\n",
                            "      <td>2013</td>\n",
                            "      <td>4.75</td>\n",
                            "      <td>9.54</td>\n",
                            "      <td>43000</td>\n",
                            "      <td>Diesel</td>\n",
                            "      <td>Dealer</td>\n",
                            "      <td>Manual</td>\n",
                            "    </tr>\n",
                            "    <tr>\n",
                            "      <th>2</th>\n",
                            "      <td>ciaz</td>\n",
                            "      <td>2017</td>\n",
                            "      <td>7.25</td>\n",
                            "      <td>9.85</td>\n",
                            "      <td>6900</td>\n",
                            "      <td>Petrol</td>\n",
                            "      <td>Dealer</td>\n",
                            "      <td>Manual</td>\n",
                            "    </tr>\n",
                            "    <tr>\n",
                            "      <th>3</th>\n",
                            "      <td>wagon r</td>\n",
                            "      <td>2011</td>\n",
                            "      <td>2.85</td>\n",
                            "      <td>4.15</td>\n",
                            "      <td>5200</td>\n",
                            "      <td>Petrol</td>\n",
                            "      <td>Dealer</td>\n",
                            "      <td>Manual</td>\n",
                            "    </tr>\n",
                            "    <tr>\n",
                            "      <th>4</th>\n",
                            "      <td>swift</td>\n",
                            "      <td>2014</td>\n",
                            "      <td>4.60</td>\n",
                            "      <td>6.87</td>\n",
                            "      <td>42450</td>\n",
                            "      <td>Diesel</td>\n",
                            "      <td>Dealer</td>\n",
                            "      <td>Manual</td>\n",
                            "    </tr>\n",
                            "  </tbody>\n",
                            "</table>\n",
                            "</div>"
                        ]
                    },
                    "metadata": {},
                    "execution_count": 121
                }
            ],
            "metadata": {}
        },
        {
            "cell_type": "code",
            "execution_count": 122,
            "source": [
                "data_frame['Fuel_Type'].value_counts()\r\n",
                "data_frame['Seller_Type'].value_counts()\r\n",
                "data_frame['Transmission'].value_counts()"
            ],
            "outputs": [
                {
                    "output_type": "execute_result",
                    "data": {
                        "text/plain": [
                            "Manual       261\n",
                            "Automatic     40\n",
                            "Name: Transmission, dtype: int64"
                        ]
                    },
                    "metadata": {},
                    "execution_count": 122
                }
            ],
            "metadata": {}
        },
        {
            "cell_type": "markdown",
            "source": [
                "# Data Visualization"
            ],
            "metadata": {}
        },
        {
            "cell_type": "code",
            "execution_count": 123,
            "source": [
                "histograms = data_frame.hist(bins = 50, figsize = (15, 10))"
            ],
            "outputs": [
                {
                    "output_type": "display_data",
                    "data": {
                        "text/plain": [
                            "<Figure size 1080x720 with 4 Axes>"
                        ],
                        "image/png": "[encoded data removed]"
                    },
                    "metadata": {
                        "needs_background": "light"
                    }
                }
            ],
            "metadata": {}
        },
        {
            "cell_type": "markdown",
            "source": [
                "# Handling Categorical Variables"
            ],
            "metadata": {}
        },
        {
            "cell_type": "code",
            "execution_count": 124,
            "source": [
                "data_frame.replace({'Fuel_Type' : {'Petrol' : 0, 'Diesel' : 1, 'CNG': 2}}, inplace = True)\r\n",
                "data_frame.replace({'Seller_Type' : {'Dealer' : 0, 'Individual' : 1}}, inplace = True)\r\n",
                "data_frame.replace({'Transmission' : {'Manual' : 0, 'Automatic' : 1}}, inplace = True)"
            ],
            "outputs": [],
            "metadata": {}
        },
        {
            "cell_type": "code",
            "execution_count": 125,
            "source": [
                "data_frame.head()"
            ],
            "outputs": [
                {
                    "output_type": "execute_result",
                    "data": {
                        "text/plain": [
                            "  Car_Name  Year  Selling_Price  Present_Price  Kms_Driven  Fuel_Type  \\\n",
                            "0     ritz  2014           3.35           5.59       27000          0   \n",
                            "1      sx4  2013           4.75           9.54       43000          1   \n",
                            "2     ciaz  2017           7.25           9.85        6900          0   \n",
                            "3  wagon r  2011           2.85           4.15        5200          0   \n",
                            "4    swift  2014           4.60           6.87       42450          1   \n",
                            "\n",
                            "   Seller_Type  Transmission  \n",
                            "0            0             0  \n",
                            "1            0             0  \n",
                            "2            0             0  \n",
                            "3            0             0  \n",
                            "4            0             0  "
                        ],
                        "text/html": [
                            "<div>\n",
                            "<style scoped>\n",
                            "    .dataframe tbody tr th:only-of-type {\n",
                            "        vertical-align: middle;\n",
                            "    }\n",
                            "\n",
                            "    .dataframe tbody tr th {\n",
                            "        vertical-align: top;\n",
                            "    }\n",
                            "\n",
                            "    .dataframe thead th {\n",
                            "        text-align: right;\n",
                            "    }\n",
                            "</style>\n",
                            "<table border=\"1\" class=\"dataframe\">\n",
                            "  <thead>\n",
                            "    <tr style=\"text-align: right;\">\n",
                            "      <th></th>\n",
                            "      <th>Car_Name</th>\n",
                            "      <th>Year</th>\n",
                            "      <th>Selling_Price</th>\n",
                            "      <th>Present_Price</th>\n",
                            "      <th>Kms_Driven</th>\n",
                            "      <th>Fuel_Type</th>\n",
                            "      <th>Seller_Type</th>\n",
                            "      <th>Transmission</th>\n",
                            "    </tr>\n",
                            "  </thead>\n",
                            "  <tbody>\n",
                            "    <tr>\n",
                            "      <th>0</th>\n",
                            "      <td>ritz</td>\n",
                            "      <td>2014</td>\n",
                            "      <td>3.35</td>\n",
                            "      <td>5.59</td>\n",
                            "      <td>27000</td>\n",
                            "      <td>0</td>\n",
                            "      <td>0</td>\n",
                            "      <td>0</td>\n",
                            "    </tr>\n",
                            "    <tr>\n",
                            "      <th>1</th>\n",
                            "      <td>sx4</td>\n",
                            "      <td>2013</td>\n",
                            "      <td>4.75</td>\n",
                            "      <td>9.54</td>\n",
                            "      <td>43000</td>\n",
                            "      <td>1</td>\n",
                            "      <td>0</td>\n",
                            "      <td>0</td>\n",
                            "    </tr>\n",
                            "    <tr>\n",
                            "      <th>2</th>\n",
                            "      <td>ciaz</td>\n",
                            "      <td>2017</td>\n",
                            "      <td>7.25</td>\n",
                            "      <td>9.85</td>\n",
                            "      <td>6900</td>\n",
                            "      <td>0</td>\n",
                            "      <td>0</td>\n",
                            "      <td>0</td>\n",
                            "    </tr>\n",
                            "    <tr>\n",
                            "      <th>3</th>\n",
                            "      <td>wagon r</td>\n",
                            "      <td>2011</td>\n",
                            "      <td>2.85</td>\n",
                            "      <td>4.15</td>\n",
                            "      <td>5200</td>\n",
                            "      <td>0</td>\n",
                            "      <td>0</td>\n",
                            "      <td>0</td>\n",
                            "    </tr>\n",
                            "    <tr>\n",
                            "      <th>4</th>\n",
                            "      <td>swift</td>\n",
                            "      <td>2014</td>\n",
                            "      <td>4.60</td>\n",
                            "      <td>6.87</td>\n",
                            "      <td>42450</td>\n",
                            "      <td>1</td>\n",
                            "      <td>0</td>\n",
                            "      <td>0</td>\n",
                            "    </tr>\n",
                            "  </tbody>\n",
                            "</table>\n",
                            "</div>"
                        ]
                    },
                    "metadata": {},
                    "execution_count": 125
                }
            ],
            "metadata": {}
        },
        {
            "cell_type": "markdown",
            "source": [
                "# Importing Libraries for Linear Regression"
            ],
            "metadata": {}
        },
        {
            "cell_type": "code",
            "execution_count": 126,
            "source": [
                "from sklearn.model_selection import train_test_split\r\n",
                "from sklearn.linear_model import LinearRegression\r\n",
                "from sklearn import metrics"
            ],
            "outputs": [],
            "metadata": {}
        },
        {
            "cell_type": "code",
            "execution_count": 127,
            "source": [
                "X = data_frame.drop(['Car_Name', 'Selling_Price'], axis = 1) \r\n",
                "Y = data_frame['Selling_Price']"
            ],
            "outputs": [],
            "metadata": {}
        },
        {
            "cell_type": "markdown",
            "source": [
                "# Splitting data into training and testing set"
            ],
            "metadata": {}
        },
        {
            "cell_type": "code",
            "execution_count": 128,
            "source": [
                "X_train, X_valid, Y_train, Y_valid = train_test_split(X, Y, test_size = 0.25, random_state = 99)"
            ],
            "outputs": [],
            "metadata": {}
        },
        {
            "cell_type": "code",
            "execution_count": 129,
            "source": [
                "Training_Lr_model = LinearRegression()\r\n",
                "Training_Lr_model.fit(X_train, Y_train)"
            ],
            "outputs": [
                {
                    "output_type": "execute_result",
                    "data": {
                        "text/plain": [
                            "LinearRegression()"
                        ]
                    },
                    "metadata": {},
                    "execution_count": 129
                }
            ],
            "metadata": {}
        },
        {
            "cell_type": "markdown",
            "source": [
                "# Training the regression model"
            ],
            "metadata": {}
        },
        {
            "cell_type": "code",
            "execution_count": 130,
            "source": [
                "model_pred = Training_Lr_model.predict(X_valid)"
            ],
            "outputs": [],
            "metadata": {}
        },
        {
            "cell_type": "markdown",
            "source": [
                "## Computing the R-Squared Error"
            ],
            "metadata": {}
        },
        {
            "cell_type": "code",
            "execution_count": 131,
            "source": [
                "error_score_valid = metrics.r2_score(Y_valid, Training_Lr_model.predict(X_valid))\r\n",
                "error_score_train = metrics.r2_score(Y_train, Training_Lr_model.predict(X_train))\r\n",
                "print(error_score_train, error_score_valid)"
            ],
            "outputs": [
                {
                    "output_type": "stream",
                    "name": "stdout",
                    "text": [
                        "0.8701437844386817 0.8971336593351005\n"
                    ]
                }
            ],
            "metadata": {}
        },
        {
            "cell_type": "markdown",
            "source": [
                "# Plot of Real Price Vs Predicted Price of Car Sales"
            ],
            "metadata": {}
        },
        {
            "cell_type": "code",
            "execution_count": 132,
            "source": [
                "plt.scatter(Y_valid, model_pred)\r\n",
                "plt.xlabel(\"Real Price\")\r\n",
                "plt.ylabel(\"Predicted Price\")\r\n",
                "plt.title(\"Real Vs Predicted Car Price\")\r\n",
                "plt.show()"
            ],
            "outputs": [
                {
                    "output_type": "display_data",
                    "data": {
                        "text/plain": [
                            "<Figure size 432x288 with 1 Axes>"
                        ],
                        "image/png": "[encoded data removed]"
                    },
                    "metadata": {
                        "needs_background": "light"
                    }
                }
            ],
            "metadata": {}
        },
        {
            "cell_type": "code",
            "execution_count": 133,
            "source": [
                "plt.scatter(Y_valid, model_pred, label = 'Valid')\r\n",
                "plt.scatter(Y_train, Training_Lr_model .predict(X_train), label = 'Train')\r\n",
                "plt.xlabel(\"Actual Price\")\r\n",
                "plt.ylabel(\"Predicted Price\")\r\n",
                "plt.title(\"Actual Vs Predicted Car Price\")\r\n",
                "plt.show()"
            ],
            "outputs": [
                {
                    "output_type": "display_data",
                    "data": {
                        "text/plain": [
                            "<Figure size 432x288 with 1 Axes>"
                        ],
                        "image/png": "[encoded data removed]"
                    },
                    "metadata": {
                        "needs_background": "light"
                    }
                }
            ],
            "metadata": {}
        },
        {
            "cell_type": "markdown",
            "source": [
                "# Linear Regression Prediction using Ordinary Least Squares Method(OLS)"
            ],
            "metadata": {}
        },
        {
            "cell_type": "code",
            "execution_count": 134,
            "source": [
                "import statsmodels.api as sm"
            ],
            "outputs": [],
            "metadata": {}
        },
        {
            "cell_type": "code",
            "execution_count": 136,
            "source": [
                "model = sm.OLS(Y_valid, model_pred).fit()\r\n",
                "model_prediction = model.predict(model_pred) \r\n",
                "\r\n",
                "model_details = model.summary()\r\n",
                "print(model_details)"
            ],
            "outputs": [
                {
                    "output_type": "stream",
                    "name": "stdout",
                    "text": [
                        "                                 OLS Regression Results                                \n",
                        "=======================================================================================\n",
                        "Dep. Variable:          Selling_Price   R-squared (uncentered):                   0.954\n",
                        "Model:                            OLS   Adj. R-squared (uncentered):              0.954\n",
                        "Method:                 Least Squares   F-statistic:                              1569.\n",
                        "Date:                Sat, 17 Jul 2021   Prob (F-statistic):                    4.93e-52\n",
                        "Time:                        23:24:12   Log-Likelihood:                         -138.22\n",
                        "No. Observations:                  76   AIC:                                      278.4\n",
                        "Df Residuals:                      75   BIC:                                      280.8\n",
                        "Df Model:                           1                                                  \n",
                        "Covariance Type:            nonrobust                                                  \n",
                        "==============================================================================\n",
                        "                 coef    std err          t      P>|t|      [0.025      0.975]\n",
                        "------------------------------------------------------------------------------\n",
                        "x1             1.0676      0.027     39.609      0.000       1.014       1.121\n",
                        "==============================================================================\n",
                        "Omnibus:                       21.255   Durbin-Watson:                   2.122\n",
                        "Prob(Omnibus):                  0.000   Jarque-Bera (JB):               35.203\n",
                        "Skew:                           1.061   Prob(JB):                     2.27e-08\n",
                        "Kurtosis:                       5.571   Cond. No.                         1.00\n",
                        "==============================================================================\n",
                        "\n",
                        "Notes:\n",
                        "[1] R² is computed without centering (uncentered) since the model does not contain a constant.\n",
                        "[2] Standard Errors assume that the covariance matrix of the errors is correctly specified.\n"
                    ]
                }
            ],
            "metadata": {}
        }
    ],
    "metadata": {
        "orig_nbformat": 4,
        "language_info": {
            "name": "python"
        }
    },
    "nbformat": 4,
    "nbformat_minor": 2
}